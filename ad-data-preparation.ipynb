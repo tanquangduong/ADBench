{
 "cells": [
  {
   "cell_type": "code",
   "execution_count": 1,
   "id": "a3bceb7c",
   "metadata": {},
   "outputs": [],
   "source": [
    "import pandas as pd\n",
    "\n",
    "import warnings\n",
    "warnings.filterwarnings(\"ignore\")\n",
    "\n",
    "# import the necessary package\n",
    "from data_generator import DataGenerator\n",
    "from myutils import Utils\n",
    "\n",
    "datagenerator = DataGenerator()\n",
    "utils = Utils()"
   ]
  },
  {
   "cell_type": "code",
   "execution_count": 5,
   "id": "7375f432",
   "metadata": {},
   "outputs": [],
   "source": [
    "from baseline.PyOD import PYOD\n",
    "from baseline.DevNet.run import DevNet\n",
    "from baseline.Supervised import supervised\n",
    "from baseline.DAGMM.run import DAGMM # Unsup\n",
    "\n",
    "# dataset and model list / dict\n",
    "dataset_list = ['6_cardio.npz', '25_musk.npz', '26_optdigits.npz', '37_speech.npz', '41_vowels.npz']"
   ]
  },
  {
   "cell_type": "code",
   "execution_count": 40,
   "id": "4ae16552",
   "metadata": {},
   "outputs": [
    {
     "name": "stdout",
     "output_type": "stream",
     "text": [
      "subsampling for dataset 10_cover.npz...\n",
      "current noise type: None\n",
      "{'Samples': 10000, 'Features': 10, 'Anomalies': 111, 'Anomalies Ratio(%)': 1.11}\n"
     ]
    },
    {
     "data": {
      "text/html": [
       "<div>\n",
       "<style scoped>\n",
       "    .dataframe tbody tr th:only-of-type {\n",
       "        vertical-align: middle;\n",
       "    }\n",
       "\n",
       "    .dataframe tbody tr th {\n",
       "        vertical-align: top;\n",
       "    }\n",
       "\n",
       "    .dataframe thead th {\n",
       "        text-align: right;\n",
       "    }\n",
       "</style>\n",
       "<table border=\"1\" class=\"dataframe\">\n",
       "  <thead>\n",
       "    <tr style=\"text-align: right;\">\n",
       "      <th></th>\n",
       "      <th>0</th>\n",
       "      <th>1</th>\n",
       "      <th>2</th>\n",
       "      <th>3</th>\n",
       "      <th>4</th>\n",
       "      <th>5</th>\n",
       "      <th>6</th>\n",
       "      <th>7</th>\n",
       "      <th>8</th>\n",
       "      <th>9</th>\n",
       "    </tr>\n",
       "  </thead>\n",
       "  <tbody>\n",
       "    <tr>\n",
       "      <th>count</th>\n",
       "      <td>7000.000000</td>\n",
       "      <td>7000.000000</td>\n",
       "      <td>7000.000000</td>\n",
       "      <td>7000.000000</td>\n",
       "      <td>7000.000000</td>\n",
       "      <td>7000.000000</td>\n",
       "      <td>7000.000000</td>\n",
       "      <td>7000.000000</td>\n",
       "      <td>7000.000000</td>\n",
       "      <td>7000.000000</td>\n",
       "    </tr>\n",
       "    <tr>\n",
       "      <th>mean</th>\n",
       "      <td>0.642396</td>\n",
       "      <td>0.414414</td>\n",
       "      <td>0.268031</td>\n",
       "      <td>0.204497</td>\n",
       "      <td>0.286921</td>\n",
       "      <td>0.347224</td>\n",
       "      <td>0.776778</td>\n",
       "      <td>0.813619</td>\n",
       "      <td>0.563842</td>\n",
       "      <td>0.297259</td>\n",
       "    </tr>\n",
       "    <tr>\n",
       "      <th>std</th>\n",
       "      <td>0.143249</td>\n",
       "      <td>0.296654</td>\n",
       "      <td>0.141594</td>\n",
       "      <td>0.152960</td>\n",
       "      <td>0.078972</td>\n",
       "      <td>0.236343</td>\n",
       "      <td>0.141045</td>\n",
       "      <td>0.121250</td>\n",
       "      <td>0.146211</td>\n",
       "      <td>0.200691</td>\n",
       "    </tr>\n",
       "    <tr>\n",
       "      <th>min</th>\n",
       "      <td>0.000000</td>\n",
       "      <td>0.000000</td>\n",
       "      <td>0.000000</td>\n",
       "      <td>0.000000</td>\n",
       "      <td>0.000000</td>\n",
       "      <td>0.000000</td>\n",
       "      <td>0.000000</td>\n",
       "      <td>0.000000</td>\n",
       "      <td>0.000000</td>\n",
       "      <td>0.000000</td>\n",
       "    </tr>\n",
       "    <tr>\n",
       "      <th>25%</th>\n",
       "      <td>0.551948</td>\n",
       "      <td>0.164345</td>\n",
       "      <td>0.156863</td>\n",
       "      <td>0.087655</td>\n",
       "      <td>0.235211</td>\n",
       "      <td>0.159971</td>\n",
       "      <td>0.707865</td>\n",
       "      <td>0.741935</td>\n",
       "      <td>0.472222</td>\n",
       "      <td>0.155797</td>\n",
       "    </tr>\n",
       "    <tr>\n",
       "      <th>50%</th>\n",
       "      <td>0.658730</td>\n",
       "      <td>0.345404</td>\n",
       "      <td>0.254902</td>\n",
       "      <td>0.175310</td>\n",
       "      <td>0.266197</td>\n",
       "      <td>0.288792</td>\n",
       "      <td>0.803371</td>\n",
       "      <td>0.832258</td>\n",
       "      <td>0.563492</td>\n",
       "      <td>0.252007</td>\n",
       "    </tr>\n",
       "    <tr>\n",
       "      <th>75%</th>\n",
       "      <td>0.731602</td>\n",
       "      <td>0.652507</td>\n",
       "      <td>0.352941</td>\n",
       "      <td>0.284879</td>\n",
       "      <td>0.315493</td>\n",
       "      <td>0.487991</td>\n",
       "      <td>0.876404</td>\n",
       "      <td>0.903226</td>\n",
       "      <td>0.658730</td>\n",
       "      <td>0.366883</td>\n",
       "    </tr>\n",
       "    <tr>\n",
       "      <th>max</th>\n",
       "      <td>1.000000</td>\n",
       "      <td>1.000000</td>\n",
       "      <td>1.000000</td>\n",
       "      <td>1.000000</td>\n",
       "      <td>1.000000</td>\n",
       "      <td>1.000000</td>\n",
       "      <td>1.000000</td>\n",
       "      <td>1.000000</td>\n",
       "      <td>1.000000</td>\n",
       "      <td>1.000000</td>\n",
       "    </tr>\n",
       "  </tbody>\n",
       "</table>\n",
       "</div>"
      ],
      "text/plain": [
       "                 0            1            2            3            4  \\\n",
       "count  7000.000000  7000.000000  7000.000000  7000.000000  7000.000000   \n",
       "mean      0.642396     0.414414     0.268031     0.204497     0.286921   \n",
       "std       0.143249     0.296654     0.141594     0.152960     0.078972   \n",
       "min       0.000000     0.000000     0.000000     0.000000     0.000000   \n",
       "25%       0.551948     0.164345     0.156863     0.087655     0.235211   \n",
       "50%       0.658730     0.345404     0.254902     0.175310     0.266197   \n",
       "75%       0.731602     0.652507     0.352941     0.284879     0.315493   \n",
       "max       1.000000     1.000000     1.000000     1.000000     1.000000   \n",
       "\n",
       "                 5            6            7            8            9  \n",
       "count  7000.000000  7000.000000  7000.000000  7000.000000  7000.000000  \n",
       "mean      0.347224     0.776778     0.813619     0.563842     0.297259  \n",
       "std       0.236343     0.141045     0.121250     0.146211     0.200691  \n",
       "min       0.000000     0.000000     0.000000     0.000000     0.000000  \n",
       "25%       0.159971     0.707865     0.741935     0.472222     0.155797  \n",
       "50%       0.288792     0.803371     0.832258     0.563492     0.252007  \n",
       "75%       0.487991     0.876404     0.903226     0.658730     0.366883  \n",
       "max       1.000000     1.000000     1.000000     1.000000     1.000000  "
      ]
     },
     "execution_count": 40,
     "metadata": {},
     "output_type": "execute_result"
    }
   ],
   "source": [
    "# seed for reproducible results\n",
    "seed = 42\n",
    "\n",
    "# import the dataset\n",
    "datagenerator.dataset = '10_cover.npz' # specify the dataset name\n",
    "data_cardio = datagenerator.generator(la=0.3, realistic_synthetic_mode=None, noise_type=None) # only 10% labeled anomalies are available\n",
    "\n",
    "X_train=data_cardio['X_train']\n",
    "y_train=data_cardio['y_train']\n",
    "X_test = data_cardio['X_test']\n",
    "y_test=data_cardio['y_test']\n",
    "\n",
    "df_X_train = pd.DataFrame(X_train)\n",
    "df_X_train.describe()"
   ]
  },
  {
   "cell_type": "code",
   "execution_count": 37,
   "id": "3957e3d6",
   "metadata": {},
   "outputs": [
    {
     "name": "stdout",
     "output_type": "stream",
     "text": [
      "0    6895\n",
      "1     105\n",
      "dtype: int64\n"
     ]
    },
    {
     "data": {
      "text/plain": [
       "0    0.985\n",
       "1    0.015\n",
       "dtype: float64"
      ]
     },
     "execution_count": 37,
     "metadata": {},
     "output_type": "execute_result"
    }
   ],
   "source": [
    "df_Y_train = pd.DataFrame(y_train)\n",
    "print(df_Y_train.value_counts())\n",
    "df_Y_train.value_counts(normalize=True)"
   ]
  },
  {
   "cell_type": "code",
   "execution_count": 38,
   "id": "08d6839c",
   "metadata": {},
   "outputs": [
    {
     "name": "stdout",
     "output_type": "stream",
     "text": [
      "0    2850\n",
      "1     150\n",
      "dtype: int64\n"
     ]
    },
    {
     "data": {
      "text/plain": [
       "0    0.95\n",
       "1    0.05\n",
       "dtype: float64"
      ]
     },
     "execution_count": 38,
     "metadata": {},
     "output_type": "execute_result"
    }
   ],
   "source": [
    "df_Y_test = pd.DataFrame(y_test)\n",
    "print(df_Y_test.value_counts())\n",
    "df_Y_test.value_counts(normalize=True)"
   ]
  },
  {
   "cell_type": "code",
   "execution_count": null,
   "id": "891558a7",
   "metadata": {},
   "outputs": [],
   "source": [
    "150"
   ]
  }
 ],
 "metadata": {
  "kernelspec": {
   "display_name": "Python 3 (ipykernel)",
   "language": "python",
   "name": "python3"
  },
  "language_info": {
   "codemirror_mode": {
    "name": "ipython",
    "version": 3
   },
   "file_extension": ".py",
   "mimetype": "text/x-python",
   "name": "python",
   "nbconvert_exporter": "python",
   "pygments_lexer": "ipython3",
   "version": "3.9.12"
  }
 },
 "nbformat": 4,
 "nbformat_minor": 5
}
