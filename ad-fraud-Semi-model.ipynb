{
 "cells": [
  {
   "cell_type": "code",
   "execution_count": 40,
   "id": "8b60d9a8",
   "metadata": {},
   "outputs": [],
   "source": [
    "import pandas as pd\n",
    "import numpy as np\n",
    "import matplotlib.pyplot as plt\n",
    "import seaborn as sns\n",
    "\n",
    "import warnings\n",
    "warnings.filterwarnings(\"ignore\")\n",
    "\n",
    "# import the necessary package\n",
    "from data_generator import DataGenerator\n",
    "from myutils import Utils\n",
    "\n",
    "from sklearn.metrics import roc_curve, precision_recall_curve\n",
    "from sklearn.metrics import accuracy_score, precision_score, confusion_matrix, recall_score, f1_score\n",
    "\n",
    "datagenerator = DataGenerator()\n",
    "utils = Utils()"
   ]
  },
  {
   "cell_type": "code",
   "execution_count": 55,
   "id": "613513a0",
   "metadata": {},
   "outputs": [
    {
     "name": "stdout",
     "output_type": "stream",
     "text": [
      "X_train size: (199364, 29)\n",
      "X_test size: (85443, 29)\n",
      "y_train size: (199364,)\n",
      "y_test size: (85443,)\n"
     ]
    }
   ],
   "source": [
    "# Data preparation\n",
    "\n",
    "df_train = pd.read_csv('./datasets/fraud_ds_train.csv', header=None)\n",
    "df_test = pd.read_csv('./datasets/fraud_ds_test.csv', header=None)\n",
    "df_train = df_train.sample(frac=1).reset_index(drop=True)\n",
    "df_test = df_test.sample(frac=1).reset_index(drop=True)\n",
    "\n",
    "# print(df_train.head())\n",
    "# print(df_test.head())\n",
    "\n",
    "# Extract Features and Labels\n",
    "\n",
    "X_train, y_train = df_train.iloc[:,0:-1].values, df_train.iloc[:,-1].values\n",
    "X_test, y_test = df_test.iloc[:,0:-1].values, df_test.iloc[:,-1].values\n",
    "\n",
    "print('X_train size:', X_train.shape)\n",
    "print('X_test size:', X_test.shape)\n",
    "\n",
    "print('y_train size:', y_train.shape)\n",
    "print('y_test size:', y_test.shape)"
   ]
  },
  {
   "cell_type": "code",
   "execution_count": 77,
   "id": "819cc784",
   "metadata": {},
   "outputs": [
    {
     "data": {
      "text/plain": [
       "0    0.998275\n",
       "1    0.001725\n",
       "Name: 29, dtype: float64"
      ]
     },
     "execution_count": 77,
     "metadata": {},
     "output_type": "execute_result"
    }
   ],
   "source": [
    "df_train.iloc[:,-1].value_counts(normalize=True)"
   ]
  },
  {
   "cell_type": "code",
   "execution_count": 56,
   "id": "bf550aad",
   "metadata": {},
   "outputs": [],
   "source": [
    "from baseline.PyOD import PYOD\n",
    "from baseline.DevNet.run import DevNet\n",
    "from baseline.Supervised import supervised\n",
    "from baseline.DAGMM.run import DAGMM # Unsup\n",
    "from baseline.DevNet.run import DevNet\n",
    "\n",
    "model_dict = {'IForest': PYOD, 'DevNet':DevNet,}\n",
    "dataset_list = ['credit_card']\n",
    "# save the results\n",
    "df_AUCROC = pd.DataFrame(data=None, index=dataset_list, columns = model_dict.keys())\n",
    "df_AUCPR = pd.DataFrame(data=None, index=dataset_list, columns = model_dict.keys())"
   ]
  },
  {
   "cell_type": "code",
   "execution_count": 57,
   "id": "02dfe110",
   "metadata": {
    "scrolled": true
   },
   "outputs": [
    {
     "name": "stdout",
     "output_type": "stream",
     "text": [
      "best param: None\n",
      "Training size: 199364, No. outliers: 344\n",
      "Epoch 1/50\n",
      "20/20 [==============================] - 3s 11ms/step - loss: 2.6765\n",
      "Epoch 2/50\n",
      "20/20 [==============================] - 0s 10ms/step - loss: 2.5782\n",
      "Epoch 3/50\n",
      "20/20 [==============================] - 0s 11ms/step - loss: 2.4928\n",
      "Epoch 4/50\n",
      "20/20 [==============================] - 0s 10ms/step - loss: 2.3995\n",
      "Epoch 5/50\n",
      "20/20 [==============================] - 0s 11ms/step - loss: 2.2987\n",
      "Epoch 6/50\n",
      "20/20 [==============================] - 0s 10ms/step - loss: 2.1948\n",
      "Epoch 7/50\n",
      "20/20 [==============================] - 0s 10ms/step - loss: 2.0814\n",
      "Epoch 8/50\n",
      "20/20 [==============================] - 0s 11ms/step - loss: 1.9653\n",
      "Epoch 9/50\n",
      "20/20 [==============================] - 0s 11ms/step - loss: 1.8473\n",
      "Epoch 10/50\n",
      "20/20 [==============================] - 0s 10ms/step - loss: 1.7081\n",
      "Epoch 11/50\n",
      "20/20 [==============================] - 0s 10ms/step - loss: 1.5771\n",
      "Epoch 12/50\n",
      "20/20 [==============================] - 0s 10ms/step - loss: 1.4225\n",
      "Epoch 13/50\n",
      "20/20 [==============================] - 0s 11ms/step - loss: 1.2780\n",
      "Epoch 14/50\n",
      "20/20 [==============================] - 0s 9ms/step - loss: 1.1207\n",
      "Epoch 15/50\n",
      "20/20 [==============================] - 0s 11ms/step - loss: 0.9983\n",
      "Epoch 16/50\n",
      "20/20 [==============================] - 0s 11ms/step - loss: 0.9485\n",
      "Epoch 17/50\n",
      "20/20 [==============================] - 0s 10ms/step - loss: 0.9290\n",
      "Epoch 18/50\n",
      "20/20 [==============================] - 0s 11ms/step - loss: 0.9178\n",
      "Epoch 19/50\n",
      "20/20 [==============================] - 0s 10ms/step - loss: 0.8931\n",
      "Epoch 20/50\n",
      "20/20 [==============================] - 0s 10ms/step - loss: 0.8914\n",
      "Epoch 21/50\n",
      "20/20 [==============================] - 0s 10ms/step - loss: 0.8615\n",
      "Epoch 22/50\n",
      "20/20 [==============================] - 0s 10ms/step - loss: 0.8459\n",
      "Epoch 23/50\n",
      "20/20 [==============================] - 0s 12ms/step - loss: 0.8278\n",
      "Epoch 24/50\n",
      "20/20 [==============================] - 0s 9ms/step - loss: 0.8352\n",
      "Epoch 25/50\n",
      "20/20 [==============================] - 0s 9ms/step - loss: 0.8287\n",
      "Epoch 26/50\n",
      "20/20 [==============================] - 0s 11ms/step - loss: 0.8149\n",
      "Epoch 27/50\n",
      "20/20 [==============================] - 0s 9ms/step - loss: 0.8241\n",
      "Epoch 28/50\n",
      "20/20 [==============================] - 0s 10ms/step - loss: 0.7944\n",
      "Epoch 29/50\n",
      "20/20 [==============================] - 0s 11ms/step - loss: 0.7938\n",
      "Epoch 30/50\n",
      "20/20 [==============================] - 0s 11ms/step - loss: 0.7834\n",
      "Epoch 31/50\n",
      "20/20 [==============================] - 0s 10ms/step - loss: 0.7708\n",
      "Epoch 32/50\n",
      "20/20 [==============================] - 0s 10ms/step - loss: 0.7882\n",
      "Epoch 33/50\n",
      "20/20 [==============================] - 0s 10ms/step - loss: 0.7823\n",
      "Epoch 34/50\n",
      "20/20 [==============================] - 0s 11ms/step - loss: 0.7556\n",
      "Epoch 35/50\n",
      "20/20 [==============================] - 0s 11ms/step - loss: 0.7391\n",
      "Epoch 36/50\n",
      "20/20 [==============================] - 0s 10ms/step - loss: 0.7583\n",
      "Epoch 37/50\n",
      "20/20 [==============================] - 0s 10ms/step - loss: 0.7500\n",
      "Epoch 38/50\n",
      "20/20 [==============================] - 0s 10ms/step - loss: 0.7529\n",
      "Epoch 39/50\n",
      "20/20 [==============================] - 0s 10ms/step - loss: 0.7121\n",
      "Epoch 40/50\n",
      "20/20 [==============================] - 0s 11ms/step - loss: 0.7089\n",
      "Epoch 41/50\n",
      "20/20 [==============================] - 0s 10ms/step - loss: 0.7270\n",
      "Epoch 42/50\n",
      "20/20 [==============================] - 0s 10ms/step - loss: 0.7291\n",
      "Epoch 43/50\n",
      "20/20 [==============================] - 0s 10ms/step - loss: 0.7138\n",
      "Epoch 44/50\n",
      "20/20 [==============================] - 0s 11ms/step - loss: 0.6945\n",
      "Epoch 45/50\n",
      "20/20 [==============================] - 0s 10ms/step - loss: 0.7142\n",
      "Epoch 46/50\n",
      "20/20 [==============================] - 0s 11ms/step - loss: 0.7073\n",
      "Epoch 47/50\n",
      "20/20 [==============================] - 0s 11ms/step - loss: 0.6908\n",
      "Epoch 48/50\n",
      "20/20 [==============================] - 0s 9ms/step - loss: 0.7093\n",
      "Epoch 49/50\n",
      "20/20 [==============================] - 0s 10ms/step - loss: 0.7026\n",
      "Epoch 50/50\n",
      "20/20 [==============================] - 0s 10ms/step - loss: 0.7078\n",
      "2671/2671 [==============================] - 2s 547us/step\n"
     ]
    }
   ],
   "source": [
    "# seed for reproducible results\n",
    "seed = 42\n",
    "\n",
    "for name, clf in model_dict.items():\n",
    "    # model initialization\n",
    "    if name == 'DevNet':\n",
    "        clf = clf(seed=seed, model_name=name, save_suffix='test') # DevNet use early stopping to save the model parameter\n",
    "    else:\n",
    "        clf = clf(seed=seed, model_name=name)\n",
    "\n",
    "    # training, for unsupervised models the y label will be discarded\n",
    "    clf = clf.fit(X_train=X_train, y_train=y_train)\n",
    "\n",
    "    # output predicted anomaly score on testing set\n",
    "    if name ==\"DAGMM\":\n",
    "        score = clf.predict_score(X_train, X_test)\n",
    "    else:\n",
    "        score = clf.predict_score(X_test)\n",
    "\n",
    "    # evaluation\n",
    "    result = utils.metric(y_true=y_test, y_score=score)\n",
    "    # save results\n",
    "    df_AUCROC.loc[dataset_list[0], name] = result['aucroc']\n",
    "    df_AUCPR.loc[dataset_list[0], name] = result['aucpr']\n",
    "    "
   ]
  },
  {
   "cell_type": "code",
   "execution_count": 58,
   "id": "a1892bd2",
   "metadata": {},
   "outputs": [
    {
     "name": "stdout",
     "output_type": "stream",
     "text": [
      "6.6377764\n",
      "-1.1056802\n"
     ]
    }
   ],
   "source": [
    "print(np.max(score))\n",
    "print(np.min(score))"
   ]
  },
  {
   "cell_type": "code",
   "execution_count": 62,
   "id": "d724f1a6",
   "metadata": {},
   "outputs": [
    {
     "data": {
      "text/plain": [
       "(85443,)"
      ]
     },
     "execution_count": 62,
     "metadata": {},
     "output_type": "execute_result"
    }
   ],
   "source": [
    "score[:,0].shape"
   ]
  },
  {
   "cell_type": "code",
   "execution_count": 63,
   "id": "1be79a71",
   "metadata": {},
   "outputs": [],
   "source": [
    "score_series = pd.Series(score[:,0])"
   ]
  },
  {
   "cell_type": "code",
   "execution_count": 64,
   "id": "bf6e447f",
   "metadata": {},
   "outputs": [
    {
     "data": {
      "text/plain": [
       "(array([7.611e+03, 5.875e+04, 1.463e+04, 2.813e+03, 1.268e+03, 2.290e+02,\n",
       "        9.000e+00, 1.300e+01, 2.900e+01, 9.100e+01]),\n",
       " array([-1.1056802 , -0.33133456,  0.4430111 ,  1.2173568 ,  1.9917024 ,\n",
       "         2.766048  ,  3.5403938 ,  4.314739  ,  5.089085  ,  5.8634305 ,\n",
       "         6.6377764 ], dtype=float32),\n",
       " <BarContainer object of 10 artists>)"
      ]
     },
     "execution_count": 64,
     "metadata": {},
     "output_type": "execute_result"
    },
    {
     "data": {
      "image/png": "[encoded data removed]",
      "text/plain": [
       "<Figure size 432x288 with 1 Axes>"
      ]
     },
     "metadata": {
      "needs_background": "light"
     },
     "output_type": "display_data"
    }
   ],
   "source": [
    "plt.hist(score)"
   ]
  },
  {
   "cell_type": "markdown",
   "id": "47cb0549",
   "metadata": {},
   "source": [
    "# Evaluate AUC-ROC"
   ]
  },
  {
   "cell_type": "markdown",
   "id": "3afcfabc",
   "metadata": {},
   "source": [
    "# Calculate the best threshold by Gmeans"
   ]
  },
  {
   "cell_type": "code",
   "execution_count": 65,
   "id": "5556dfa6",
   "metadata": {},
   "outputs": [
    {
     "name": "stdout",
     "output_type": "stream",
     "text": [
      "Best Threshold=1.369155, G-Mean=0.950\n"
     ]
    }
   ],
   "source": [
    "# calculate roc curves\n",
    "fpr, tpr, thresholds = roc_curve(y_test, score)\n",
    "# calculate the g-mean for each threshold\n",
    "gmeans = np.sqrt(tpr * (1-fpr))\n",
    "\n",
    "# locate the index of the largest g-mean\n",
    "ix = np.argmax(gmeans)\n",
    "print('Best Threshold=%f, G-Mean=%.3f' % (thresholds[ix], gmeans[ix]))"
   ]
  },
  {
   "cell_type": "markdown",
   "id": "27db9ec6",
   "metadata": {},
   "source": [
    "# Calculate the best threshold by Youden's J statistic"
   ]
  },
  {
   "cell_type": "code",
   "execution_count": 66,
   "id": "89fe2b4d",
   "metadata": {},
   "outputs": [
    {
     "name": "stdout",
     "output_type": "stream",
     "text": [
      "Best Threshold=1.369155\n"
     ]
    }
   ],
   "source": [
    "\n",
    "# calculate roc curves\n",
    "fpr, tpr, thresholds = roc_curve(y_test, score)\n",
    "# get the best threshold\n",
    "J = tpr - fpr\n",
    "ix = np.argmax(J)\n",
    "best_thresh = thresholds[ix]\n",
    "print('Best Threshold=%f' % (best_thresh))"
   ]
  },
  {
   "cell_type": "code",
   "execution_count": 67,
   "id": "69bf48c2",
   "metadata": {},
   "outputs": [
    {
     "data": {
      "image/png": "[encoded data removed]",
      "text/plain": [
       "<Figure size 432x288 with 1 Axes>"
      ]
     },
     "metadata": {
      "needs_background": "light"
     },
     "output_type": "display_data"
    }
   ],
   "source": [
    "# plot the roc curve for the model\n",
    "plt.plot([0,1], [0,1], linestyle='--', label='No Skill')\n",
    "plt.plot(fpr, tpr, marker='.', label='Logistic')\n",
    "plt.scatter(fpr[ix], tpr[ix], marker='o', color='black', label='Best')\n",
    "# axis labels\n",
    "plt.xlabel('False Positive Rate')\n",
    "plt.ylabel('True Positive Rate')\n",
    "plt.legend()\n",
    "# show the plot\n",
    "plt.show()"
   ]
  },
  {
   "cell_type": "markdown",
   "id": "eb467b6a",
   "metadata": {},
   "source": [
    "# Probability to Class"
   ]
  },
  {
   "cell_type": "code",
   "execution_count": 68,
   "id": "cadd3ea4",
   "metadata": {},
   "outputs": [],
   "source": [
    "y_pred = np.where(score > best_thresh, 1, 0)"
   ]
  },
  {
   "cell_type": "code",
   "execution_count": 69,
   "id": "2d675260",
   "metadata": {},
   "outputs": [
    {
     "data": {
      "text/html": [
       "<div>\n",
       "<style scoped>\n",
       "    .dataframe tbody tr th:only-of-type {\n",
       "        vertical-align: middle;\n",
       "    }\n",
       "\n",
       "    .dataframe tbody tr th {\n",
       "        vertical-align: top;\n",
       "    }\n",
       "\n",
       "    .dataframe thead th {\n",
       "        text-align: right;\n",
       "    }\n",
       "</style>\n",
       "<table border=\"1\" class=\"dataframe\">\n",
       "  <thead>\n",
       "    <tr style=\"text-align: right;\">\n",
       "      <th></th>\n",
       "      <th>Metrics</th>\n",
       "      <th>Result</th>\n",
       "    </tr>\n",
       "  </thead>\n",
       "  <tbody>\n",
       "    <tr>\n",
       "      <th>0</th>\n",
       "      <td>Accuracy</td>\n",
       "      <td>0.961764</td>\n",
       "    </tr>\n",
       "    <tr>\n",
       "      <th>1</th>\n",
       "      <td>Precision</td>\n",
       "      <td>0.040648</td>\n",
       "    </tr>\n",
       "    <tr>\n",
       "      <th>2</th>\n",
       "      <td>Recall</td>\n",
       "      <td>0.932432</td>\n",
       "    </tr>\n",
       "    <tr>\n",
       "      <th>3</th>\n",
       "      <td>F1_score</td>\n",
       "      <td>0.077900</td>\n",
       "    </tr>\n",
       "  </tbody>\n",
       "</table>\n",
       "</div>"
      ],
      "text/plain": [
       "     Metrics    Result\n",
       "0   Accuracy  0.961764\n",
       "1  Precision  0.040648\n",
       "2     Recall  0.932432\n",
       "3   F1_score  0.077900"
      ]
     },
     "execution_count": 69,
     "metadata": {},
     "output_type": "execute_result"
    }
   ],
   "source": [
    "# Printing performance metrics \n",
    "metrics_values = [['Accuracy', accuracy_score(y_test, y_pred)],\n",
    "                 ['Precision', precision_score(y_test, y_pred)],\n",
    "                 ['Recall', recall_score(y_test, y_pred)],\n",
    "                 ['F1_score', f1_score(y_test, y_pred)]]\n",
    "metrics_values_df = pd.DataFrame(metrics_values, columns=['Metrics', 'Result'])\n",
    "metrics_values_df"
   ]
  },
  {
   "cell_type": "markdown",
   "id": "89275e96",
   "metadata": {},
   "source": [
    "# Confusion matrix"
   ]
  },
  {
   "cell_type": "code",
   "execution_count": 70,
   "id": "ec07fd17",
   "metadata": {},
   "outputs": [
    {
     "data": {
      "text/plain": [
       "[Text(0, 0.5, 'Normal'), Text(0, 1.5, 'Fraud')]"
      ]
     },
     "execution_count": 70,
     "metadata": {},
     "output_type": "execute_result"
    },
    {
     "data": {
      "image/png": "[encoded data removed]",
      "text/plain": [
       "<Figure size 432x288 with 2 Axes>"
      ]
     },
     "metadata": {
      "needs_background": "light"
     },
     "output_type": "display_data"
    }
   ],
   "source": [
    "# Confusion Matrix\n",
    "cm = confusion_matrix(y_test, y_pred)\n",
    "\n",
    "# Visualization\n",
    "ax = plt.subplot()\n",
    "sns.heatmap(cm, annot=True, fmt='g', ax=ax)\n",
    "ax.set_xlabel('Predicted Values')\n",
    "ax.set_ylabel('Actual Values')\n",
    "ax.set_title('Confusion Matrix')\n",
    "ax.xaxis.set_ticklabels(['Normal', 'Fraud'])\n",
    "ax.yaxis.set_ticklabels(['Normal', 'Fraud'])"
   ]
  },
  {
   "cell_type": "markdown",
   "id": "1002ac86",
   "metadata": {},
   "source": [
    "# Evaluate AUC-PR"
   ]
  },
  {
   "cell_type": "markdown",
   "id": "a4edbc05",
   "metadata": {},
   "source": [
    "# Choosing the best threshold by using F-1 / F-measure score"
   ]
  },
  {
   "cell_type": "code",
   "execution_count": 71,
   "id": "d37c4334",
   "metadata": {},
   "outputs": [
    {
     "name": "stdout",
     "output_type": "stream",
     "text": [
      "Best Threshold=3.691841, F-Score=0.814\n"
     ]
    },
    {
     "data": {
      "image/png": "[encoded data removed]",
      "text/plain": [
       "<Figure size 432x288 with 1 Axes>"
      ]
     },
     "metadata": {
      "needs_background": "light"
     },
     "output_type": "display_data"
    }
   ],
   "source": [
    "# calculate roc curves\n",
    "precision, recall, thresholds = precision_recall_curve(y_test, score)\n",
    "# convert to f score\n",
    "fscore = (2 * precision * recall) / (precision + recall + 1e-9)\n",
    "# locate the index of the largest f score\n",
    "ix = np.argmax(fscore)\n",
    "print('Best Threshold=%f, F-Score=%.3f' % (thresholds[ix], fscore[ix]))\n",
    "# plot the roc curve for the model\n",
    "no_skill = len(y_test[y_test==1]) / len(y_test)\n",
    "plt.plot([0,1], [no_skill,no_skill], linestyle='--', label='No Skill')\n",
    "plt.plot(recall, precision, marker='.', label='Logistic')\n",
    "plt.scatter(recall[ix], precision[ix], marker='o', color='black', label='Best')\n",
    "# axis labels\n",
    "plt.xlabel('Recall')\n",
    "plt.ylabel('Precision')\n",
    "plt.legend()\n",
    "# show the plot\n",
    "plt.show()"
   ]
  },
  {
   "cell_type": "code",
   "execution_count": 72,
   "id": "146f5033",
   "metadata": {},
   "outputs": [],
   "source": [
    "best_thresh = thresholds[ix]\n",
    "y_pred = np.where(score > best_thresh, 1, 0)"
   ]
  },
  {
   "cell_type": "code",
   "execution_count": 73,
   "id": "7d9fa4c6",
   "metadata": {},
   "outputs": [
    {
     "data": {
      "text/html": [
       "<div>\n",
       "<style scoped>\n",
       "    .dataframe tbody tr th:only-of-type {\n",
       "        vertical-align: middle;\n",
       "    }\n",
       "\n",
       "    .dataframe tbody tr th {\n",
       "        vertical-align: top;\n",
       "    }\n",
       "\n",
       "    .dataframe thead th {\n",
       "        text-align: right;\n",
       "    }\n",
       "</style>\n",
       "<table border=\"1\" class=\"dataframe\">\n",
       "  <thead>\n",
       "    <tr style=\"text-align: right;\">\n",
       "      <th></th>\n",
       "      <th>Metrics</th>\n",
       "      <th>Result</th>\n",
       "    </tr>\n",
       "  </thead>\n",
       "  <tbody>\n",
       "    <tr>\n",
       "      <th>0</th>\n",
       "      <td>Accuracy</td>\n",
       "      <td>0.999356</td>\n",
       "    </tr>\n",
       "    <tr>\n",
       "      <th>1</th>\n",
       "      <td>Precision</td>\n",
       "      <td>0.829787</td>\n",
       "    </tr>\n",
       "    <tr>\n",
       "      <th>2</th>\n",
       "      <td>Recall</td>\n",
       "      <td>0.790541</td>\n",
       "    </tr>\n",
       "    <tr>\n",
       "      <th>3</th>\n",
       "      <td>F1_score</td>\n",
       "      <td>0.809689</td>\n",
       "    </tr>\n",
       "  </tbody>\n",
       "</table>\n",
       "</div>"
      ],
      "text/plain": [
       "     Metrics    Result\n",
       "0   Accuracy  0.999356\n",
       "1  Precision  0.829787\n",
       "2     Recall  0.790541\n",
       "3   F1_score  0.809689"
      ]
     },
     "execution_count": 73,
     "metadata": {},
     "output_type": "execute_result"
    }
   ],
   "source": [
    "# Printing performance metrics \n",
    "metrics_values = [['Accuracy', accuracy_score(y_test, y_pred)],\n",
    "                 ['Precision', precision_score(y_test, y_pred)],\n",
    "                 ['Recall', recall_score(y_test, y_pred)],\n",
    "                 ['F1_score', f1_score(y_test, y_pred)]]\n",
    "metrics_values_df = pd.DataFrame(metrics_values, columns=['Metrics', 'Result'])\n",
    "metrics_values_df"
   ]
  },
  {
   "cell_type": "code",
   "execution_count": 74,
   "id": "3f6504c9",
   "metadata": {},
   "outputs": [
    {
     "data": {
      "text/plain": [
       "[Text(0, 0.5, 'Normal'), Text(0, 1.5, 'Fraud')]"
      ]
     },
     "execution_count": 74,
     "metadata": {},
     "output_type": "execute_result"
    },
    {
     "data": {
      "image/png": "[encoded data removed]",
      "text/plain": [
       "<Figure size 432x288 with 2 Axes>"
      ]
     },
     "metadata": {
      "needs_background": "light"
     },
     "output_type": "display_data"
    }
   ],
   "source": [
    "# Confusion Matrix\n",
    "cm = confusion_matrix(y_test, y_pred)\n",
    "\n",
    "# Visualization\n",
    "ax = plt.subplot()\n",
    "sns.heatmap(cm, annot=True, fmt='g', ax=ax)\n",
    "ax.set_xlabel('Predicted Values')\n",
    "ax.set_ylabel('Actual Values')\n",
    "ax.set_title('Confusion Matrix')\n",
    "ax.xaxis.set_ticklabels(['Normal', 'Fraud'])\n",
    "ax.yaxis.set_ticklabels(['Normal', 'Fraud'])"
   ]
  },
  {
   "cell_type": "code",
   "execution_count": null,
   "id": "ca44e093",
   "metadata": {},
   "outputs": [],
   "source": []
  }
 ],
 "metadata": {
  "kernelspec": {
   "display_name": "Python 3 (ipykernel)",
   "language": "python",
   "name": "python3"
  },
  "language_info": {
   "codemirror_mode": {
    "name": "ipython",
    "version": 3
   },
   "file_extension": ".py",
   "mimetype": "text/x-python",
   "name": "python",
   "nbconvert_exporter": "python",
   "pygments_lexer": "ipython3",
   "version": "3.9.12"
  }
 },
 "nbformat": 4,
 "nbformat_minor": 5
}
